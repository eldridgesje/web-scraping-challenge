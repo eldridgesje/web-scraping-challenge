{
 "cells": [
  {
   "cell_type": "code",
   "execution_count": 2,
   "id": "0f283d30",
   "metadata": {},
   "outputs": [],
   "source": [
    "from splinter import Browser\n",
    "from bs4 import BeautifulSoup\n",
    "from webdriver_manager.chrome import ChromeDriverManager"
   ]
  },
  {
   "cell_type": "code",
   "execution_count": 2,
   "id": "ee0e16f4",
   "metadata": {},
   "outputs": [],
   "source": [
    "def headline_scrape():\n",
    "    executable_path = {'executable_path': ChromeDriverManager().install()}\n",
    "    browser = Browser('chrome', **executable_path, headless=False)\n",
    "    url = \"https://redplanetscience.com/\"\n",
    "    browser.visit(url)\n",
    "    html = browser.html\n",
    "    soup = BeautifulSoup(html, \"html.parser\")\n",
    "    headline = soup.find(\"div\", class_=\"content_title\").get_text()\n",
    "    return(headline)\n",
    "    browser.quit()"
   ]
  },
  {
   "cell_type": "code",
   "execution_count": 3,
   "id": "92ac235f",
   "metadata": {},
   "outputs": [],
   "source": [
    "def description_scrape():\n",
    "    executable_path = {'executable_path': ChromeDriverManager().install()}\n",
    "    browser = Browser('chrome', **executable_path, headless=False)\n",
    "    url = \"https://redplanetscience.com/\"\n",
    "    browser.visit(url)\n",
    "    html = browser.html\n",
    "    soup = BeautifulSoup(html, \"html.parser\")\n",
    "    description = soup.find(\"div\", class_=\"article_teaser_body\").get_text()\n",
    "    return(description)\n",
    "    browser.quit()"
   ]
  },
  {
   "cell_type": "code",
   "execution_count": 4,
   "id": "6e69e492",
   "metadata": {},
   "outputs": [
    {
     "name": "stderr",
     "output_type": "stream",
     "text": [
      "\n",
      "\n",
      "====== WebDriver manager ======\n",
      "Current google-chrome version is 96.0.4664\n",
      "Get LATEST chromedriver version for 96.0.4664 google-chrome\n",
      "Driver [C:\\Users\\zbbro\\.wdm\\drivers\\chromedriver\\win32\\96.0.4664.45\\chromedriver.exe] found in cache\n",
      "\n",
      "\n",
      "====== WebDriver manager ======\n",
      "Current google-chrome version is 96.0.4664\n",
      "Get LATEST chromedriver version for 96.0.4664 google-chrome\n",
      "Driver [C:\\Users\\zbbro\\.wdm\\drivers\\chromedriver\\win32\\96.0.4664.45\\chromedriver.exe] found in cache\n"
     ]
    }
   ],
   "source": [
    "headline = headline_scrape()\n",
    "description = description_scrape()"
   ]
  },
  {
   "cell_type": "code",
   "execution_count": 5,
   "id": "546842ab",
   "metadata": {},
   "outputs": [],
   "source": [
    "def image_scrape():\n",
    "    executable_path = {'executable_path': ChromeDriverManager().install()}\n",
    "    browser = Browser('chrome', **executable_path, headless=False)\n",
    "    url = \"https://spaceimages-mars.com/\"\n",
    "    browser.visit(url)\n",
    "    html = browser.html\n",
    "    soup = BeautifulSoup(html, \"html.parser\")\n",
    "    image = soup.find(\"img\", class_=\"headerimage\")\n",
    "    image_url = url + image[\"src\"]\n",
    "    return(image_url)\n",
    "    browser.quit()"
   ]
  },
  {
   "cell_type": "code",
   "execution_count": 6,
   "id": "fcd8948c",
   "metadata": {},
   "outputs": [
    {
     "name": "stderr",
     "output_type": "stream",
     "text": [
      "\n",
      "\n",
      "====== WebDriver manager ======\n",
      "Current google-chrome version is 96.0.4664\n",
      "Get LATEST chromedriver version for 96.0.4664 google-chrome\n",
      "Driver [C:\\Users\\zbbro\\.wdm\\drivers\\chromedriver\\win32\\96.0.4664.45\\chromedriver.exe] found in cache\n"
     ]
    }
   ],
   "source": [
    "image_url = image_scrape()"
   ]
  },
  {
   "cell_type": "code",
   "execution_count": 7,
   "id": "cd6e7bd3",
   "metadata": {},
   "outputs": [],
   "source": [
    "def facts_scrape():\n",
    "    executable_path = {'executable_path': ChromeDriverManager().install()}\n",
    "    browser = Browser('chrome', **executable_path, headless=False)\n",
    "    url = \"https://galaxyfacts-mars.com/\"\n",
    "    browser.visit(url)\n",
    "    html = browser.html\n",
    "    soup = BeautifulSoup(html, \"html.parser\")\n",
    "    table = str(soup.find(\"table\"))\n",
    "    return(table)\n",
    "    browser.quit()"
   ]
  },
  {
   "cell_type": "code",
   "execution_count": 8,
   "id": "218b97ab",
   "metadata": {
    "scrolled": true
   },
   "outputs": [
    {
     "name": "stderr",
     "output_type": "stream",
     "text": [
      "\n",
      "\n",
      "====== WebDriver manager ======\n",
      "Current google-chrome version is 96.0.4664\n",
      "Get LATEST chromedriver version for 96.0.4664 google-chrome\n",
      "Driver [C:\\Users\\zbbro\\.wdm\\drivers\\chromedriver\\win32\\96.0.4664.45\\chromedriver.exe] found in cache\n"
     ]
    }
   ],
   "source": [
    "mars_table = facts_scrape()"
   ]
  },
  {
   "cell_type": "code",
   "execution_count": 63,
   "id": "be860edc",
   "metadata": {
    "scrolled": true
   },
   "outputs": [
    {
     "name": "stderr",
     "output_type": "stream",
     "text": [
      "\n",
      "\n",
      "====== WebDriver manager ======\n",
      "Current google-chrome version is 96.0.4664\n",
      "Get LATEST chromedriver version for 96.0.4664 google-chrome\n",
      "Driver [C:\\Users\\zbbro\\.wdm\\drivers\\chromedriver\\win32\\96.0.4664.45\\chromedriver.exe] found in cache\n",
      "\n",
      "\n",
      "====== WebDriver manager ======\n",
      "Current google-chrome version is 96.0.4664\n",
      "Get LATEST chromedriver version for 96.0.4664 google-chrome\n",
      "Driver [C:\\Users\\zbbro\\.wdm\\drivers\\chromedriver\\win32\\96.0.4664.45\\chromedriver.exe] found in cache\n",
      "\n",
      "\n",
      "====== WebDriver manager ======\n",
      "Current google-chrome version is 96.0.4664\n",
      "Get LATEST chromedriver version for 96.0.4664 google-chrome\n",
      "Driver [C:\\Users\\zbbro\\.wdm\\drivers\\chromedriver\\win32\\96.0.4664.45\\chromedriver.exe] found in cache\n",
      "\n",
      "\n",
      "====== WebDriver manager ======\n",
      "Current google-chrome version is 96.0.4664\n",
      "Get LATEST chromedriver version for 96.0.4664 google-chrome\n",
      "Driver [C:\\Users\\zbbro\\.wdm\\drivers\\chromedriver\\win32\\96.0.4664.45\\chromedriver.exe] found in cache\n",
      "\n",
      "\n",
      "====== WebDriver manager ======\n",
      "Current google-chrome version is 96.0.4664\n",
      "Get LATEST chromedriver version for 96.0.4664 google-chrome\n",
      "Driver [C:\\Users\\zbbro\\.wdm\\drivers\\chromedriver\\win32\\96.0.4664.45\\chromedriver.exe] found in cache\n"
     ]
    },
    {
     "data": {
      "text/plain": [
       "[{'title': 'Cerberus Hemisphere Enhanced',\n",
       "  'img_url': 'https://marshemispheres.com/images/full.jpg'},\n",
       " {'title': 'Schiaparelli Hemisphere Enhanced',\n",
       "  'img_url': 'https://marshemispheres.com/images/schiaparelli_enhanced-full.jpg'},\n",
       " {'title': 'Syrtis Major Hemisphere Enhanced',\n",
       "  'img_url': 'https://marshemispheres.com/images/syrtis_major_enhanced-full.jpg'},\n",
       " {'title': 'Valles Marineris Hemisphere Enhanced',\n",
       "  'img_url': 'https://marshemispheres.com/images/valles_marineris_enhanced-full.jpg'}]"
      ]
     },
     "execution_count": 63,
     "metadata": {},
     "output_type": "execute_result"
    }
   ],
   "source": [
    "def hemispheres_scrape():\n",
    "    hemURLs = []\n",
    "    executable_path = {'executable_path': ChromeDriverManager().install()}\n",
    "    browser = Browser('chrome', **executable_path, headless=False)\n",
    "    url = \"https://marshemispheres.com/index.html\"\n",
    "    browser.visit(url)\n",
    "    links = browser.links.find_by_partial_text('Hemisphere Enhanced')\n",
    "    for link in links:\n",
    "        hemURLs.append(link['href'])\n",
    "    return(hemURLs)\n",
    "    browser.quit()\n",
    "\n",
    "hemURLs = hemispheres_scrape()\n",
    "\n",
    "def hemispheres2_scrape():\n",
    "    hemispheres_scrape()\n",
    "    hemispheres = []\n",
    "    for hemURL in hemURLs:\n",
    "        executable_path = {'executable_path': ChromeDriverManager().install()}\n",
    "        browser = Browser('chrome', **executable_path, headless=False)\n",
    "        url = hemURL\n",
    "        browser.visit(url)\n",
    "        html = browser.html\n",
    "        soup = BeautifulSoup(html, \"html.parser\")\n",
    "        imageLink = browser.links.find_by_partial_text('Sample')\n",
    "        imageTitle = soup.find(\"h2\", class_=\"title\").get_text()\n",
    "        hemiDict = {\"title\": imageTitle, \"img_url\": imageLink['href']}\n",
    "        hemispheres.append(hemiDict)\n",
    "        browser.quit()\n",
    "    return(hemispheres)\n",
    "\n",
    "hemispheres = hemispheres2_scrape()"
   ]
  },
  {
   "cell_type": "code",
   "execution_count": 10,
   "id": "79a5d1eb",
   "metadata": {},
   "outputs": [],
   "source": [
    "mars_dict = {\n",
    "    \"headline\": headline,\n",
    "    \"description\": description,\n",
    "    \"image\": image_url,\n",
    "    \"facts\": mars_table,\n",
    "    \"hemispheres\": hemispheres\n",
    "}"
   ]
  },
  {
   "cell_type": "code",
   "execution_count": 11,
   "id": "fd55e6f6",
   "metadata": {},
   "outputs": [
    {
     "data": {
      "text/plain": [
       "{'headline': 'Mars Scientists Investigate Ancient Life in Australia',\n",
       " 'description': 'The leadership council for Mars 2020 science added two new members who represent the interests of scientists destined to handle and study the first samples from Red Planet.',\n",
       " 'image': 'https://spaceimages-mars.com/image/featured/mars1.jpg',\n",
       " 'facts': '<table class=\"table\">\\n<tbody>\\n<tr>\\n<th scope=\"row\"><b> Mars - Earth Comparison</b></th>\\n<td><span class=\"orange\"><b> Mars</b></span></td>\\n<td><span class=\"purple\"> <b>Earth </b></span> </td>\\n</tr>\\n<tr>\\n<th scope=\"row\">Diameter:</th>\\n<td><span class=\"orange\">6,779 km</span></td>\\n<td><span class=\"purple\">12,742 km</span> </td>\\n</tr>\\n<tr>\\n<th scope=\"row\">Mass:</th>\\n<td><span class=\"orange\">6.39 × 10^23 kg </span></td>\\n<td><span class=\"purple\">5.97 × 10^24 kg</span> </td>\\n</tr>\\n<tr>\\n<th scope=\"row\">Moons:</th>\\n<td><span class=\"orange\">2</span></td>\\n<td><span class=\"purple\">1</span> </td>\\n</tr>\\n<tr>\\n<th scope=\"row\">Distance from Sun:</th>\\n<td><span class=\"orange\">227,943,824 km</span></td>\\n<td><span class=\"purple\">149,598,262 km</span> </td>\\n</tr>\\n<tr>\\n<th scope=\"row\">Length of Year:</th>\\n<td><span class=\"orange\">687 Earth days</span></td>\\n<td><span class=\"purple\">365.24 days</span> </td>\\n</tr>\\n<tr>\\n<th scope=\"row\">Temperature:</th>\\n<td><span class=\"orange\">-87 to -5 °C</span></td>\\n<td><span class=\"purple\">\\t-88 to 58°C</span> </td>\\n</tr>\\n</tbody>\\n</table>',\n",
       " 'hemispheres': [{'title': 'Cerberus Hemisphere',\n",
       "   'img_url': 'https://marshemispheres.com/images/cerberus_enhanced.tif'},\n",
       "  {'title': 'Schiaparelli Hemisphere',\n",
       "   'img_url': 'https://marshemispheres.com/images/schiaparelli_enhanced.tif'},\n",
       "  {'title': 'Syrtis Major Hemisphere',\n",
       "   'img_url': 'https://marshemispheres.com/images/syrtis_major_enhanced.tif'},\n",
       "  {'title': 'Valles Marineris Hemisphere',\n",
       "   'img_url': 'https://marshemispheres.com/images/valles_marineris_enhanced.tif'}]}"
      ]
     },
     "execution_count": 11,
     "metadata": {},
     "output_type": "execute_result"
    }
   ],
   "source": [
    "mars_dict"
   ]
  },
  {
   "cell_type": "code",
   "execution_count": null,
   "id": "d1a99bf7",
   "metadata": {},
   "outputs": [],
   "source": []
  }
 ],
 "metadata": {
  "kernelspec": {
   "display_name": "Python 3",
   "language": "python",
   "name": "python3"
  },
  "language_info": {
   "codemirror_mode": {
    "name": "ipython",
    "version": 3
   },
   "file_extension": ".py",
   "mimetype": "text/x-python",
   "name": "python",
   "nbconvert_exporter": "python",
   "pygments_lexer": "ipython3",
   "version": "3.8.8"
  }
 },
 "nbformat": 4,
 "nbformat_minor": 5
}
